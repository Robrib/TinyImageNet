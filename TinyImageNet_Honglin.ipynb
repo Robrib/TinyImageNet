{
  "nbformat": 4,
  "nbformat_minor": 0,
  "metadata": {
    "colab": {
      "name": "TinyImageNet_Honglin.ipynb",
      "version": "0.3.2",
      "provenance": [],
      "collapsed_sections": [],
      "include_colab_link": true
    },
    "kernelspec": {
      "name": "python2",
      "display_name": "Python 2"
    },
    "accelerator": "GPU"
  },
  "cells": [
    {
      "cell_type": "markdown",
      "metadata": {
        "id": "view-in-github",
        "colab_type": "text"
      },
      "source": [
        "<a href=\"https://colab.research.google.com/github/Robrib/TinyImageNet/blob/master/TinyImageNet_Honglin.ipynb\" target=\"_parent\"><img src=\"https://colab.research.google.com/assets/colab-badge.svg\" alt=\"Open In Colab\"/></a>"
      ]
    },
    {
      "cell_type": "markdown",
      "metadata": {
        "id": "PgGNyCxiiIl7",
        "colab_type": "text"
      },
      "source": [
        "First, check if you are using a GPU-enabled runtime.\n",
        "Execute the following cell and check if you see a device of type `GPU`."
      ]
    },
    {
      "cell_type": "code",
      "metadata": {
        "id": "nfhsu1amiHFc",
        "colab_type": "code",
        "outputId": "ecdefb6d-5e35-40ab-bf70-23380385c154",
        "colab": {
          "base_uri": "https://localhost:8080/",
          "height": 476
        }
      },
      "source": [
        "from tensorflow.python.client import device_lib\n",
        "device_lib.list_local_devices()"
      ],
      "execution_count": 1,
      "outputs": [
        {
          "output_type": "execute_result",
          "data": {
            "text/plain": [
              "[name: \"/device:CPU:0\"\n",
              " device_type: \"CPU\"\n",
              " memory_limit: 268435456\n",
              " locality {\n",
              " }\n",
              " incarnation: 3697089262616306294, name: \"/device:XLA_CPU:0\"\n",
              " device_type: \"XLA_CPU\"\n",
              " memory_limit: 17179869184\n",
              " locality {\n",
              " }\n",
              " incarnation: 2461058530713796801\n",
              " physical_device_desc: \"device: XLA_CPU device\", name: \"/device:XLA_GPU:0\"\n",
              " device_type: \"XLA_GPU\"\n",
              " memory_limit: 17179869184\n",
              " locality {\n",
              " }\n",
              " incarnation: 15538007697601429985\n",
              " physical_device_desc: \"device: XLA_GPU device\", name: \"/device:GPU:0\"\n",
              " device_type: \"GPU\"\n",
              " memory_limit: 14800692839\n",
              " locality {\n",
              "   bus_id: 1\n",
              "   links {\n",
              "   }\n",
              " }\n",
              " incarnation: 14127362070405433090\n",
              " physical_device_desc: \"device: 0, name: Tesla T4, pci bus id: 0000:00:04.0, compute capability: 7.5\"]"
            ]
          },
          "metadata": {
            "tags": []
          },
          "execution_count": 1
        }
      ]
    },
    {
      "cell_type": "markdown",
      "metadata": {
        "id": "YjBhukAcibYk",
        "colab_type": "text"
      },
      "source": [
        "You can install additional libraries and execute other bash commands by prepending them with an exclamation mark `!`, e.g.:"
      ]
    },
    {
      "cell_type": "code",
      "metadata": {
        "id": "42e3UZnaiupg",
        "colab_type": "code",
        "outputId": "24573e2a-f4d0-44a7-e78d-20231ae98474",
        "colab": {
          "base_uri": "https://localhost:8080/",
          "height": 68
        }
      },
      "source": [
        "!pip install scikit-learn"
      ],
      "execution_count": 0,
      "outputs": [
        {
          "output_type": "stream",
          "text": [
            "Requirement already satisfied: scikit-learn in /usr/local/lib/python2.7/dist-packages (0.20.3)\n",
            "Requirement already satisfied: scipy>=0.13.3 in /usr/local/lib/python2.7/dist-packages (from scikit-learn) (1.2.1)\n",
            "Requirement already satisfied: numpy>=1.8.2 in /usr/local/lib/python2.7/dist-packages (from scikit-learn) (1.16.3)\n"
          ],
          "name": "stdout"
        }
      ]
    },
    {
      "cell_type": "markdown",
      "metadata": {
        "id": "hN-wHbHWj2cy",
        "colab_type": "text"
      },
      "source": [
        "Now, download and extract TinyImageNet dataset which has 200 classes and each class contains 500 training and 50 validation images.\n",
        "\n",
        "Since the test set is not annotated, use the training set for development and validation images should serve the purpose of a test set."
      ]
    },
    {
      "cell_type": "code",
      "metadata": {
        "id": "OdX4IUnukN-f",
        "colab_type": "code",
        "outputId": "d77dd3cf-42c7-4cd1-ac9b-3abcf8b9aaf1",
        "colab": {
          "base_uri": "https://localhost:8080/",
          "height": 204
        }
      },
      "source": [
        "!wget http://cs231n.stanford.edu/tiny-imagenet-200.zip"
      ],
      "execution_count": 2,
      "outputs": [
        {
          "output_type": "stream",
          "text": [
            "--2019-05-22 08:11:34--  http://cs231n.stanford.edu/tiny-imagenet-200.zip\n",
            "Resolving cs231n.stanford.edu (cs231n.stanford.edu)... 171.64.68.10\n",
            "Connecting to cs231n.stanford.edu (cs231n.stanford.edu)|171.64.68.10|:80... connected.\n",
            "HTTP request sent, awaiting response... 200 OK\n",
            "Length: 248100043 (237M) [application/zip]\n",
            "Saving to: ‘tiny-imagenet-200.zip’\n",
            "\n",
            "tiny-imagenet-200.z 100%[===================>] 236.61M  11.9MB/s    in 9.7s    \n",
            "\n",
            "2019-05-22 08:11:44 (24.3 MB/s) - ‘tiny-imagenet-200.zip’ saved [248100043/248100043]\n",
            "\n"
          ],
          "name": "stdout"
        }
      ]
    },
    {
      "cell_type": "code",
      "metadata": {
        "id": "hGpwih7QkYbs",
        "colab_type": "code",
        "outputId": "1f41135a-50cc-4b7b-ce88-9ede67967cc4",
        "colab": {
          "base_uri": "https://localhost:8080/",
          "height": 34
        }
      },
      "source": [
        "!unzip -q tiny-imagenet-200.zip && ls tiny-imagenet-200"
      ],
      "execution_count": 0,
      "outputs": [
        {
          "output_type": "stream",
          "text": [
            "test  train  val  wnids.txt  words.txt\n"
          ],
          "name": "stdout"
        }
      ]
    },
    {
      "cell_type": "markdown",
      "metadata": {
        "id": "NaP4Rl3vlAV9",
        "colab_type": "text"
      },
      "source": [
        "At this point you shoud have a folder named `tiny-imagenet-200` containing images and annotations necessary for training a model.\n",
        "\n",
        "Your task is to explore this dataset and build a classifier that will generalize best for unseen images.\n",
        "\n",
        "The task is puprosefully not precisely defined to give you an opportunity to show some creativity.\n",
        "\n",
        "The only restriction that we put is the use of ImageNet pre-trained models and additional data from the original ImageNet.\n",
        "\n",
        "In case you need help to start with Colaboratory, here is a guide: https://colab.research.google.com/."
      ]
    },
    {
      "cell_type": "code",
      "metadata": {
        "id": "O6VWWixH0uvm",
        "colab_type": "code",
        "colab": {}
      },
      "source": [
        "import torch"
      ],
      "execution_count": 0,
      "outputs": []
    },
    {
      "cell_type": "code",
      "metadata": {
        "id": "hNDRiw67-LOf",
        "colab_type": "code",
        "colab": {}
      },
      "source": [
        "import json\n",
        "import os"
      ],
      "execution_count": 0,
      "outputs": []
    },
    {
      "cell_type": "code",
      "metadata": {
        "id": "SUv1ZYsvByjb",
        "colab_type": "code",
        "colab": {}
      },
      "source": [
        "training_data_list = []\n",
        "for folder in os.listdir('./tiny-imagenet-200/train/'):\n",
        "  label = folder  # The name of the folder is the label of the images it contains\n",
        "  for file in os.listdir('./tiny-imagenet-200/train/' + folder + '/images/'):\n",
        "    file_dir = './tiny-imagenet-200/train/' + folder + '/images/' + file\n",
        "    training_data_list.append((file_dir, label))\n",
        "with open('./training_data_list.json', 'w') as f:\n",
        "  json.dump(training_data_list, f)\n",
        "      "
      ],
      "execution_count": 0,
      "outputs": []
    },
    {
      "cell_type": "code",
      "metadata": {
        "id": "GenisdnsD9Ql",
        "colab_type": "code",
        "colab": {}
      },
      "source": [
        "testing_data_list = []\n",
        "with open('./tiny-imagenet-200/val/val_annotations.txt', 'r') as f:\n",
        "  for line in f.readlines():\n",
        "    file, label = line.split()[0:2]\n",
        "    file_dir = './tiny-imagenet-200/val/images/' + file\n",
        "    testing_data_list.append((file_dir, label))\n",
        "\n",
        "with open('./testing_data_list.json', 'w') as f:\n",
        "  json.dump(testing_data_list, f)"
      ],
      "execution_count": 0,
      "outputs": []
    },
    {
      "cell_type": "code",
      "metadata": {
        "id": "66XkXoXKIHC2",
        "colab_type": "code",
        "colab": {}
      },
      "source": [
        "from torchvision.transforms import ToTensor\n",
        "from PIL import Image\n",
        "from torch.utils.data import Dataset\n",
        "from torch.utils.data.dataloader import *\n",
        "img_to_tensor = ToTensor()"
      ],
      "execution_count": 0,
      "outputs": []
    },
    {
      "cell_type": "code",
      "metadata": {
        "id": "7RFnRE615rvN",
        "colab_type": "code",
        "colab": {}
      },
      "source": [
        "class TrainingDataset(Dataset):\n",
        "  def __init__(self, list='./training_data_list.json'):\n",
        "    with open(list, 'r') as f:\n",
        "      self.list = json.load(f)\n",
        "\n",
        "  def __getitem__(self, index):\n",
        "    img_dir, label = self.list[index]\n",
        "    img = Image.open(img_dir)\n",
        "    tensor = img_to_tensor(img)\n",
        "    return tensor, label\n",
        "\n",
        "  def __len__(self):\n",
        "    return len(self.list)"
      ],
      "execution_count": 0,
      "outputs": []
    },
    {
      "cell_type": "code",
      "metadata": {
        "id": "6ZdO8VoDNgRX",
        "colab_type": "code",
        "outputId": "8a17e976-6b6e-44aa-b0f7-925c80294724",
        "colab": {
          "base_uri": "https://localhost:8080/",
          "height": 136
        }
      },
      "source": [
        "data_loader = DataLoader(TrainingDataset(), shuffle=True)\n",
        "for i, (tensor, label) in enumerate(data_loader):\n",
        "  print i, label\n",
        "  if i > 5:\n",
        "    break\n"
      ],
      "execution_count": 0,
      "outputs": [
        {
          "output_type": "stream",
          "text": [
            "0 (u'n04487081',)\n",
            "1 (u'n09256479',)\n",
            "2 (u'n02268443',)\n",
            "3 (u'n07920052',)\n",
            "4 (u'n04008634',)\n",
            "5 (u'n07873807',)\n",
            "6 (u'n02823428',)\n"
          ],
          "name": "stdout"
        }
      ]
    },
    {
      "cell_type": "code",
      "metadata": {
        "id": "qgaU9U-uLjZq",
        "colab_type": "code",
        "colab": {}
      },
      "source": [
        "a = {1:1, 2:2}"
      ],
      "execution_count": 0,
      "outputs": []
    },
    {
      "cell_type": "code",
      "metadata": {
        "id": "Ae5p_a20LlHp",
        "colab_type": "code",
        "colab": {}
      },
      "source": [
        "a,b =list(a)"
      ],
      "execution_count": 0,
      "outputs": []
    },
    {
      "cell_type": "code",
      "metadata": {
        "id": "Kk9WZa6sLl2J",
        "colab_type": "code",
        "outputId": "2968ae27-cfb7-4136-ef5b-71cbf617febc",
        "colab": {
          "base_uri": "https://localhost:8080/",
          "height": 34
        }
      },
      "source": [
        "a"
      ],
      "execution_count": 0,
      "outputs": [
        {
          "output_type": "execute_result",
          "data": {
            "text/plain": [
              "1"
            ]
          },
          "metadata": {
            "tags": []
          },
          "execution_count": 87
        }
      ]
    },
    {
      "cell_type": "code",
      "metadata": {
        "id": "sG2Xd-fpMUgt",
        "colab_type": "code",
        "outputId": "47972128-a070-4481-df4f-7596f0541e7e",
        "colab": {
          "base_uri": "https://localhost:8080/",
          "height": 34
        }
      },
      "source": [
        "b"
      ],
      "execution_count": 0,
      "outputs": [
        {
          "output_type": "execute_result",
          "data": {
            "text/plain": [
              "2"
            ]
          },
          "metadata": {
            "tags": []
          },
          "execution_count": 88
        }
      ]
    },
    {
      "cell_type": "code",
      "metadata": {
        "id": "It42eEMfMVJE",
        "colab_type": "code",
        "colab": {}
      },
      "source": [
        ""
      ],
      "execution_count": 0,
      "outputs": []
    }
  ]
}